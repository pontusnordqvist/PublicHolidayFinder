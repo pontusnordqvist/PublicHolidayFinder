{
 "cells": [
  {
   "cell_type": "markdown",
   "id": "852e2cb5-5ce9-4f3b-8776-004fb40e78dd",
   "metadata": {},
   "source": [
    "# Datamining"
   ]
  },
  {
   "cell_type": "markdown",
   "id": "1c384fd3-4e05-478b-83db-12246268f565",
   "metadata": {},
   "source": [
    "## By Pontus Nordqvist, <p.nordq@gmail.com>"
   ]
  },
  {
   "cell_type": "markdown",
   "id": "f2a5e794-9efa-45b4-a79e-1a966b88875e",
   "metadata": {},
   "source": [
    "8 Jun 2021 is not a good day for webscraping:\n",
    "https://www.theverge.com/2021/6/8/22523953/twitch-reddit-down-fastly-outage-issues"
   ]
  },
  {
   "cell_type": "markdown",
   "id": "aa9b54c0-893e-4dd0-95b5-f8324acf2946",
   "metadata": {},
   "source": [
    "## Let's be creative! Let's datamine from an open-source repository\n",
    "https://github.com/dr-prodigy/python-holidays"
   ]
  },
  {
   "cell_type": "markdown",
   "id": "9613a103-3fac-4482-8e2e-4e3a0a0a67c1",
   "metadata": {},
   "source": [
    "Hmm, the data seem to be stores as classes. :O \n",
    "Let's instead use their custom function; `list_supported_countries`, `CountryHoliday`in `holidays.utils` to access the data"
   ]
  },
  {
   "cell_type": "code",
   "execution_count": 1,
   "id": "5023315a-83f3-420c-a023-920c6ef2bfbb",
   "metadata": {},
   "outputs": [],
   "source": [
    "from holidays.utils import list_supported_countries, CountryHoliday"
   ]
  },
  {
   "cell_type": "markdown",
   "id": "69919d8c-314f-49df-9030-ef379c8b096d",
   "metadata": {},
   "source": [
    "Then we will also need to setup non os dependant relaitve paths i.e use os, and some packages to handle big data e.g pandas"
   ]
  },
  {
   "cell_type": "code",
   "execution_count": 2,
   "id": "7ece33e9-deb1-4f00-8b72-b0879993a7f7",
   "metadata": {},
   "outputs": [],
   "source": [
    "import os\n",
    "import pandas as pd"
   ]
  },
  {
   "cell_type": "markdown",
   "id": "3a1f7f1c-fbc5-41f5-98e5-59ba62670c57",
   "metadata": {},
   "source": [
    "Let's get the supported countries from `holidays`"
   ]
  },
  {
   "cell_type": "code",
   "execution_count": 3,
   "id": "fa409565-8def-47b3-b374-3239c2404a52",
   "metadata": {},
   "outputs": [],
   "source": [
    "supported_countries = list_supported_countries()\n",
    "supported_countries = pd.DataFrame({'Holidays countries':supported_countries})"
   ]
  },
  {
   "cell_type": "markdown",
   "id": "932c2f42-eac5-458e-b9a7-58cb89dcb081",
   "metadata": {},
   "source": [
    "Let's create an output dataframe and a list of the year (2016-2022) we want"
   ]
  },
  {
   "cell_type": "code",
   "execution_count": 4,
   "id": "cb11931c-e100-42cc-be5a-3c1e1813f413",
   "metadata": {},
   "outputs": [],
   "source": [
    "output_df = pd.DataFrame(columns=['Country code','Date','Holiday'])\n",
    "years = [year for year in range(2016,2023)]"
   ]
  },
  {
   "cell_type": "markdown",
   "id": "02f4cca7-e95f-4e94-a99e-40ad3346089b",
   "metadata": {},
   "source": [
    "Lets mine some data!"
   ]
  },
  {
   "cell_type": "code",
   "execution_count": 5,
   "id": "cc73a835-fb43-4fb7-a826-6c0775c43be3",
   "metadata": {},
   "outputs": [],
   "source": [
    "    for country in supported_countries['Holidays countries']:\n",
    "        holiday_obj = CountryHoliday(country, years=years)\n",
    "        country_list = [country] * len(holiday_obj)\n",
    "        add_df = pd.DataFrame({'Country code' : country_list,\n",
    "                               'Date' : list(holiday_obj.keys()),\n",
    "                          'Holiday' : list(holiday_obj.values())})\n",
    "        output_df = pd.concat([output_df,add_df])"
   ]
  },
  {
   "cell_type": "code",
   "execution_count": 6,
   "id": "b61912e6-73c7-4bbc-a7dc-2c9d0aeaa576",
   "metadata": {},
   "outputs": [
    {
     "data": {
      "text/html": [
       "<div>\n",
       "<style scoped>\n",
       "    .dataframe tbody tr th:only-of-type {\n",
       "        vertical-align: middle;\n",
       "    }\n",
       "\n",
       "    .dataframe tbody tr th {\n",
       "        vertical-align: top;\n",
       "    }\n",
       "\n",
       "    .dataframe thead th {\n",
       "        text-align: right;\n",
       "    }\n",
       "</style>\n",
       "<table border=\"1\" class=\"dataframe\">\n",
       "  <thead>\n",
       "    <tr style=\"text-align: right;\">\n",
       "      <th></th>\n",
       "      <th>Country code</th>\n",
       "      <th>Date</th>\n",
       "      <th>Holiday</th>\n",
       "    </tr>\n",
       "  </thead>\n",
       "  <tbody>\n",
       "    <tr>\n",
       "      <th>0</th>\n",
       "      <td>ABW</td>\n",
       "      <td>2016-01-01</td>\n",
       "      <td>Aña Nobo [New Year's Day]</td>\n",
       "    </tr>\n",
       "    <tr>\n",
       "      <th>1</th>\n",
       "      <td>ABW</td>\n",
       "      <td>2016-01-25</td>\n",
       "      <td>Dia Di Betico [Betico Day]</td>\n",
       "    </tr>\n",
       "    <tr>\n",
       "      <th>2</th>\n",
       "      <td>ABW</td>\n",
       "      <td>2016-02-08</td>\n",
       "      <td>Dialuna di Carnaval             [Carnaval Monday]</td>\n",
       "    </tr>\n",
       "    <tr>\n",
       "      <th>3</th>\n",
       "      <td>ABW</td>\n",
       "      <td>2016-03-18</td>\n",
       "      <td>Dia di Himno y Bandera             [National A...</td>\n",
       "    </tr>\n",
       "    <tr>\n",
       "      <th>4</th>\n",
       "      <td>ABW</td>\n",
       "      <td>2016-03-25</td>\n",
       "      <td>Bierna Santo [Good Friday]</td>\n",
       "    </tr>\n",
       "  </tbody>\n",
       "</table>\n",
       "</div>"
      ],
      "text/plain": [
       "  Country code        Date                                            Holiday\n",
       "0          ABW  2016-01-01                          Aña Nobo [New Year's Day]\n",
       "1          ABW  2016-01-25                         Dia Di Betico [Betico Day]\n",
       "2          ABW  2016-02-08  Dialuna di Carnaval             [Carnaval Monday]\n",
       "3          ABW  2016-03-18  Dia di Himno y Bandera             [National A...\n",
       "4          ABW  2016-03-25                         Bierna Santo [Good Friday]"
      ]
     },
     "execution_count": 6,
     "metadata": {},
     "output_type": "execute_result"
    }
   ],
   "source": [
    "output_df.head()"
   ]
  },
  {
   "cell_type": "markdown",
   "id": "1ea5676a-a2fc-462f-9e00-fb07bcd4a204",
   "metadata": {},
   "source": [
    "Let's save this mined data to .csv with the name HolidayData2016-2022."
   ]
  },
  {
   "cell_type": "code",
   "execution_count": 7,
   "id": "a34a9883-81cd-4a3c-b6c9-103c91efed5f",
   "metadata": {},
   "outputs": [],
   "source": [
    "file_name = 'HolidayData2016-2022'\n",
    "output_path = os.path.join(os.getcwd(),f'Data/MinedData/{file_name}.csv')\n",
    "output_df.to_csv(output_path)"
   ]
  },
  {
   "cell_type": "markdown",
   "id": "31fdd26f-d5ef-4c2f-b2f2-924a477ee988",
   "metadata": {},
   "source": [
    "Let's donwload some countries information: \n",
    "https://www.kaggle.com/juanumusic/countries-iso-codes \\\n",
    "so we get the three digiti ISO number"
   ]
  },
  {
   "cell_type": "code",
   "execution_count": 8,
   "id": "dd900652-7386-460b-99e8-825c827a8000",
   "metadata": {},
   "outputs": [],
   "source": [
    "iso_path = os.path.join(os.getcwd(),\n",
    "                        'Data/ISOCodes/wikipedia-iso-country-codes.csv')\n",
    "iso_country = pd.read_csv(iso_path)"
   ]
  },
  {
   "cell_type": "markdown",
   "id": "a67d30bf-4f3d-4a79-acfb-e40ab65f1fdc",
   "metadata": {},
   "source": [
    "Lets do a left join, so we only get the ISO codes for the supported countries in `"
   ]
  },
  {
   "cell_type": "code",
   "execution_count": null,
   "id": "7c72f300-3bbb-4d3f-aa12-073a1aa6c4f0",
   "metadata": {},
   "outputs": [],
   "source": []
  }
 ],
 "metadata": {
  "kernelspec": {
   "display_name": "Python 3",
   "language": "python",
   "name": "python3"
  },
  "language_info": {
   "codemirror_mode": {
    "name": "ipython",
    "version": 3
   },
   "file_extension": ".py",
   "mimetype": "text/x-python",
   "name": "python",
   "nbconvert_exporter": "python",
   "pygments_lexer": "ipython3",
   "version": "3.9.5"
  }
 },
 "nbformat": 4,
 "nbformat_minor": 5
}
