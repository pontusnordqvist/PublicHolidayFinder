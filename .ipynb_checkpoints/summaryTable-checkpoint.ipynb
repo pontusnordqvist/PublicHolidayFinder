{
 "cells": [
  {
   "cell_type": "markdown",
   "id": "dc6a60e2-1ec9-488c-b2e7-864a740c03b1",
   "metadata": {},
   "source": [
    "# Let's make a summary table"
   ]
  },
  {
   "cell_type": "markdown",
   "id": "48713d56-21e2-4e21-af5b-6a4a627aaae9",
   "metadata": {},
   "source": [
    "## By Pontus Nordqvist, <p.nordq@gmail.com>"
   ]
  },
  {
   "cell_type": "markdown",
   "id": "4a380027-5507-4dfb-a36d-68f41cb03537",
   "metadata": {},
   "source": [
    "First, we will need to load our pre-processed data. (The combining of two independant datasets is shown in the pre-processing part)"
   ]
  },
  {
   "cell_type": "code",
   "execution_count": 1,
   "id": "a541719d-0a5f-4504-9aee-9d54a76805f6",
   "metadata": {},
   "outputs": [],
   "source": [
    "import os\n",
    "import pandas as pd\n",
    "\n",
    "filename = 'CleanHolidayData2016-2022'\n",
    "data_path = os.path.join(os.getcwd(),f'Data/CleanedData/{filename}.csv')\n",
    "holiday_df = pd.read_csv(data_path)"
   ]
  },
  {
   "cell_type": "markdown",
   "id": "e6624bf9-18c4-4d14-bb0d-c244d84ee18b",
   "metadata": {},
   "source": [
    "Let's group this using three digit ISO code and year to a summary_table"
   ]
  },
  {
   "cell_type": "code",
   "execution_count": 2,
   "id": "f26b68f5-1b8d-4062-99e8-e653f0c9f7fc",
   "metadata": {},
   "outputs": [],
   "source": [
    "summary_table = holiday_df.groupby(['Alpha-3 code','Year'])"
   ]
  },
  {
   "cell_type": "code",
   "execution_count": 3,
   "id": "f1235a8c-dafc-43c1-b731-caeaa993b3e7",
   "metadata": {},
   "outputs": [
    {
     "data": {
      "text/html": [
       "<div>\n",
       "<style scoped>\n",
       "    .dataframe tbody tr th:only-of-type {\n",
       "        vertical-align: middle;\n",
       "    }\n",
       "\n",
       "    .dataframe tbody tr th {\n",
       "        vertical-align: top;\n",
       "    }\n",
       "\n",
       "    .dataframe thead th {\n",
       "        text-align: right;\n",
       "    }\n",
       "</style>\n",
       "<table border=\"1\" class=\"dataframe\">\n",
       "  <thead>\n",
       "    <tr style=\"text-align: right;\">\n",
       "      <th></th>\n",
       "      <th>Unnamed: 0</th>\n",
       "      <th>Date</th>\n",
       "      <th>Holiday</th>\n",
       "      <th>Country</th>\n",
       "      <th>Alpha-2 code</th>\n",
       "      <th>Alpha-3 code</th>\n",
       "      <th>Numeric code</th>\n",
       "      <th>ISO 3166-2</th>\n",
       "      <th>Year</th>\n",
       "    </tr>\n",
       "  </thead>\n",
       "  <tbody>\n",
       "    <tr>\n",
       "      <th>0</th>\n",
       "      <td>0</td>\n",
       "      <td>2016-01-01</td>\n",
       "      <td>Aña Nobo [New Year's Day]</td>\n",
       "      <td>aruba</td>\n",
       "      <td>AW</td>\n",
       "      <td>ABW</td>\n",
       "      <td>533</td>\n",
       "      <td>ISO 3166-2:AW</td>\n",
       "      <td>2016</td>\n",
       "    </tr>\n",
       "    <tr>\n",
       "      <th>1</th>\n",
       "      <td>1</td>\n",
       "      <td>2016-01-25</td>\n",
       "      <td>Dia Di Betico [Betico Day]</td>\n",
       "      <td>aruba</td>\n",
       "      <td>AW</td>\n",
       "      <td>ABW</td>\n",
       "      <td>533</td>\n",
       "      <td>ISO 3166-2:AW</td>\n",
       "      <td>2016</td>\n",
       "    </tr>\n",
       "    <tr>\n",
       "      <th>2</th>\n",
       "      <td>2</td>\n",
       "      <td>2016-02-08</td>\n",
       "      <td>Dialuna di Carnaval             [Carnaval Monday]</td>\n",
       "      <td>aruba</td>\n",
       "      <td>AW</td>\n",
       "      <td>ABW</td>\n",
       "      <td>533</td>\n",
       "      <td>ISO 3166-2:AW</td>\n",
       "      <td>2016</td>\n",
       "    </tr>\n",
       "    <tr>\n",
       "      <th>3</th>\n",
       "      <td>3</td>\n",
       "      <td>2016-03-18</td>\n",
       "      <td>Dia di Himno y Bandera             [National A...</td>\n",
       "      <td>aruba</td>\n",
       "      <td>AW</td>\n",
       "      <td>ABW</td>\n",
       "      <td>533</td>\n",
       "      <td>ISO 3166-2:AW</td>\n",
       "      <td>2016</td>\n",
       "    </tr>\n",
       "    <tr>\n",
       "      <th>4</th>\n",
       "      <td>4</td>\n",
       "      <td>2016-03-25</td>\n",
       "      <td>Bierna Santo [Good Friday]</td>\n",
       "      <td>aruba</td>\n",
       "      <td>AW</td>\n",
       "      <td>ABW</td>\n",
       "      <td>533</td>\n",
       "      <td>ISO 3166-2:AW</td>\n",
       "      <td>2016</td>\n",
       "    </tr>\n",
       "    <tr>\n",
       "      <th>...</th>\n",
       "      <td>...</td>\n",
       "      <td>...</td>\n",
       "      <td>...</td>\n",
       "      <td>...</td>\n",
       "      <td>...</td>\n",
       "      <td>...</td>\n",
       "      <td>...</td>\n",
       "      <td>...</td>\n",
       "      <td>...</td>\n",
       "    </tr>\n",
       "    <tr>\n",
       "      <th>6077</th>\n",
       "      <td>7035</td>\n",
       "      <td>2022-01-01</td>\n",
       "      <td>New Year's Day</td>\n",
       "      <td>south africa</td>\n",
       "      <td>ZA</td>\n",
       "      <td>ZAF</td>\n",
       "      <td>710</td>\n",
       "      <td>ISO 3166-2:ZA</td>\n",
       "      <td>2022</td>\n",
       "    </tr>\n",
       "    <tr>\n",
       "      <th>6078</th>\n",
       "      <td>7036</td>\n",
       "      <td>2022-04-15</td>\n",
       "      <td>Good Friday</td>\n",
       "      <td>south africa</td>\n",
       "      <td>ZA</td>\n",
       "      <td>ZAF</td>\n",
       "      <td>710</td>\n",
       "      <td>ISO 3166-2:ZA</td>\n",
       "      <td>2022</td>\n",
       "    </tr>\n",
       "    <tr>\n",
       "      <th>6079</th>\n",
       "      <td>7037</td>\n",
       "      <td>2022-04-18</td>\n",
       "      <td>Family Day</td>\n",
       "      <td>south africa</td>\n",
       "      <td>ZA</td>\n",
       "      <td>ZAF</td>\n",
       "      <td>710</td>\n",
       "      <td>ISO 3166-2:ZA</td>\n",
       "      <td>2022</td>\n",
       "    </tr>\n",
       "    <tr>\n",
       "      <th>6080</th>\n",
       "      <td>7038</td>\n",
       "      <td>2022-12-16</td>\n",
       "      <td>Day of Reconciliation</td>\n",
       "      <td>south africa</td>\n",
       "      <td>ZA</td>\n",
       "      <td>ZAF</td>\n",
       "      <td>710</td>\n",
       "      <td>ISO 3166-2:ZA</td>\n",
       "      <td>2022</td>\n",
       "    </tr>\n",
       "    <tr>\n",
       "      <th>6081</th>\n",
       "      <td>7039</td>\n",
       "      <td>2022-12-25</td>\n",
       "      <td>Christmas Day</td>\n",
       "      <td>south africa</td>\n",
       "      <td>ZA</td>\n",
       "      <td>ZAF</td>\n",
       "      <td>710</td>\n",
       "      <td>ISO 3166-2:ZA</td>\n",
       "      <td>2022</td>\n",
       "    </tr>\n",
       "  </tbody>\n",
       "</table>\n",
       "<p>2380 rows × 9 columns</p>\n",
       "</div>"
      ],
      "text/plain": [
       "      Unnamed: 0        Date  \\\n",
       "0              0  2016-01-01   \n",
       "1              1  2016-01-25   \n",
       "2              2  2016-02-08   \n",
       "3              3  2016-03-18   \n",
       "4              4  2016-03-25   \n",
       "...          ...         ...   \n",
       "6077        7035  2022-01-01   \n",
       "6078        7036  2022-04-15   \n",
       "6079        7037  2022-04-18   \n",
       "6080        7038  2022-12-16   \n",
       "6081        7039  2022-12-25   \n",
       "\n",
       "                                                Holiday       Country  \\\n",
       "0                             Aña Nobo [New Year's Day]         aruba   \n",
       "1                            Dia Di Betico [Betico Day]         aruba   \n",
       "2     Dialuna di Carnaval             [Carnaval Monday]         aruba   \n",
       "3     Dia di Himno y Bandera             [National A...         aruba   \n",
       "4                            Bierna Santo [Good Friday]         aruba   \n",
       "...                                                 ...           ...   \n",
       "6077                                     New Year's Day  south africa   \n",
       "6078                                        Good Friday  south africa   \n",
       "6079                                         Family Day  south africa   \n",
       "6080                              Day of Reconciliation  south africa   \n",
       "6081                                      Christmas Day  south africa   \n",
       "\n",
       "     Alpha-2 code Alpha-3 code  Numeric code     ISO 3166-2  Year  \n",
       "0              AW          ABW           533  ISO 3166-2:AW  2016  \n",
       "1              AW          ABW           533  ISO 3166-2:AW  2016  \n",
       "2              AW          ABW           533  ISO 3166-2:AW  2016  \n",
       "3              AW          ABW           533  ISO 3166-2:AW  2016  \n",
       "4              AW          ABW           533  ISO 3166-2:AW  2016  \n",
       "...           ...          ...           ...            ...   ...  \n",
       "6077           ZA          ZAF           710  ISO 3166-2:ZA  2022  \n",
       "6078           ZA          ZAF           710  ISO 3166-2:ZA  2022  \n",
       "6079           ZA          ZAF           710  ISO 3166-2:ZA  2022  \n",
       "6080           ZA          ZAF           710  ISO 3166-2:ZA  2022  \n",
       "6081           ZA          ZAF           710  ISO 3166-2:ZA  2022  \n",
       "\n",
       "[2380 rows x 9 columns]"
      ]
     },
     "execution_count": 3,
     "metadata": {},
     "output_type": "execute_result"
    }
   ],
   "source": [
    "summary_table.head()"
   ]
  },
  {
   "cell_type": "markdown",
   "id": "9b7335c4-e608-41a8-9e9c-2bab7c9cb588",
   "metadata": {},
   "source": [
    "However, we only need this for the unique holidays. Let's make it so"
   ]
  },
  {
   "cell_type": "code",
   "execution_count": 4,
   "id": "68c87703-d14c-4abd-bcdb-e57cb8c638bf",
   "metadata": {},
   "outputs": [],
   "source": [
    "summary_table = summary_table['Holiday'].nunique()"
   ]
  },
  {
   "cell_type": "code",
   "execution_count": 5,
   "id": "ef5e7260-b658-4d5b-adcd-5a2e10b66e04",
   "metadata": {},
   "outputs": [
    {
     "data": {
      "text/plain": [
       "Alpha-3 code  Year\n",
       "ABW           2016    11\n",
       "              2017    11\n",
       "              2018    11\n",
       "              2019    11\n",
       "              2020    11\n",
       "              2021    11\n",
       "              2022    11\n",
       "AGO           2016    16\n",
       "              2017    16\n",
       "              2018    18\n",
       "              2019    15\n",
       "              2020    16\n",
       "              2021    18\n",
       "              2022    16\n",
       "ARE           2016    13\n",
       "              2017    11\n",
       "              2018    12\n",
       "              2019    11\n",
       "              2020    10\n",
       "              2021    11\n",
       "Name: Holiday, dtype: int64"
      ]
     },
     "execution_count": 5,
     "metadata": {},
     "output_type": "execute_result"
    }
   ],
   "source": [
    "summary_table.head(20)"
   ]
  },
  {
   "cell_type": "markdown",
   "id": "a99b5031-f93f-43a4-a130-26c9c59116ad",
   "metadata": {},
   "source": [
    "### Wait, this is not a table. Let's make it a table"
   ]
  },
  {
   "cell_type": "code",
   "execution_count": 6,
   "id": "96970bef-b40b-4989-a084-14b027dc5438",
   "metadata": {},
   "outputs": [],
   "source": [
    "summary_table = summary_table.unstack(level=1)"
   ]
  },
  {
   "cell_type": "code",
   "execution_count": 7,
   "id": "32860203-92df-4159-a190-55b6aa30d8e8",
   "metadata": {},
   "outputs": [
    {
     "name": "stdout",
     "output_type": "stream",
     "text": [
      "Year          2016  2017  2018  2019  2020  2021  2022\n",
      "Alpha-3 code                                          \n",
      "ABW             11    11    11    11    11    11    11\n",
      "AGO             16    16    18    15    16    18    16\n",
      "ARE             13    11    12    11    10    11    11\n",
      "ARG             16    17    17    17    17    16    17\n",
      "AUS              8     8     7     8     9     9     9\n",
      "...            ...   ...   ...   ...   ...   ...   ...\n",
      "TUR             10    11    11    11    11    11    11\n",
      "UKR             10    11    11    11    11    11    11\n",
      "USA             11    12    11    10    11    13    11\n",
      "VNM             11    12    11    11    11    11    12\n",
      "ZAF             15    14    13    14    13    14    14\n",
      "\n",
      "[68 rows x 7 columns]\n"
     ]
    }
   ],
   "source": [
    "print(summary_table)"
   ]
  },
  {
   "cell_type": "markdown",
   "id": "0f451122-ebb4-4295-97d7-ccc71b6ab21f",
   "metadata": {},
   "source": [
    "Much better! :) Maybe easier to see "
   ]
  },
  {
   "cell_type": "code",
   "execution_count": 8,
   "id": "0592473d-fd7f-44a8-a973-6ab87d316d91",
   "metadata": {},
   "outputs": [],
   "source": [
    "filename = 'SummaryTable2016-2022'\n",
    "save_path = os.path.join(os.getcwd(), f'{filename}.csv')\n",
    "summary_table.to_csv(save_path)"
   ]
  },
  {
   "cell_type": "code",
   "execution_count": null,
   "id": "d19a3543-3ff1-43a6-8426-1935505004b0",
   "metadata": {},
   "outputs": [],
   "source": []
  }
 ],
 "metadata": {
  "kernelspec": {
   "display_name": "Python 3",
   "language": "python",
   "name": "python3"
  },
  "language_info": {
   "codemirror_mode": {
    "name": "ipython",
    "version": 3
   },
   "file_extension": ".py",
   "mimetype": "text/x-python",
   "name": "python",
   "nbconvert_exporter": "python",
   "pygments_lexer": "ipython3",
   "version": "3.9.5"
  }
 },
 "nbformat": 4,
 "nbformat_minor": 5
}
