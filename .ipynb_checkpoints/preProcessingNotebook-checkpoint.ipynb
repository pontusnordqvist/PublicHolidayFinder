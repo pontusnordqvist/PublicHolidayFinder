{
 "cells": [
  {
   "cell_type": "markdown",
   "id": "094d04ca-7bff-4d8e-810c-e4b4645aac65",
   "metadata": {},
   "source": [
    "# Pre-processing"
   ]
  },
  {
   "cell_type": "markdown",
   "id": "65a3b7f6-6bb7-490a-a514-46975d4f99cf",
   "metadata": {},
   "source": [
    "## By Pontus Nordqvist, <p.nordq@gmail.com>"
   ]
  },
  {
   "cell_type": "markdown",
   "id": "cd8c5cbb-d931-45ff-92f6-b7e921d85b15",
   "metadata": {},
   "source": [
    "The raw data is very non-structured and contain duplicate entries for different naming codes\\\n",
    "Let's fix this by joining with the ISO dataset\n",
    "https://www.kaggle.com/juanumusic/countries-iso-codes \\\n",
    "Let's load it, and the raw data"
   ]
  },
  {
   "cell_type": "code",
   "execution_count": 1,
   "id": "34236f57-9f42-46b6-abf4-9094d729a928",
   "metadata": {},
   "outputs": [],
   "source": [
    "import os\n",
    "import pandas as pd\n",
    "\n",
    "iso_path = os.path.join(os.getcwd(),\n",
    "                        'Data/ISOCodes/wikipedia-iso-country-codes.csv')\n",
    "iso_country = pd.read_csv(iso_path)\n",
    "\n",
    "filename = 'HolidayData2016-2022'\n",
    "data_path = os.path.join(os.getcwd(),f'Data/MinedData/{filename}.csv')\n",
    "holiday_df = pd.read_csv(data_path)"
   ]
  },
  {
   "cell_type": "markdown",
   "id": "d6823d8c-d948-4be5-b942-46e27563d7af",
   "metadata": {},
   "source": [
    "Now we need to joint these datasets to the. Since we only need the insercted data, we need to do a inner join. To remove the duplicates, we only to this on ISO 'alpha-3'."
   ]
  },
  {
   "cell_type": "code",
   "execution_count": 2,
   "id": "b208d09b-815c-47bb-9e8b-c88a200d96b6",
   "metadata": {},
   "outputs": [],
   "source": [
    "output_df = pd.merge(holiday_df, iso_country,\n",
    "                            how ='inner',\n",
    "                            left_on = 'Country code',\n",
    "                            right_on = 'Alpha-3 code')"
   ]
  },
  {
   "cell_type": "code",
   "execution_count": 3,
   "id": "47afee1a-bb6e-4589-bd0a-815573777872",
   "metadata": {},
   "outputs": [
    {
     "data": {
      "text/html": [
       "<div>\n",
       "<style scoped>\n",
       "    .dataframe tbody tr th:only-of-type {\n",
       "        vertical-align: middle;\n",
       "    }\n",
       "\n",
       "    .dataframe tbody tr th {\n",
       "        vertical-align: top;\n",
       "    }\n",
       "\n",
       "    .dataframe thead th {\n",
       "        text-align: right;\n",
       "    }\n",
       "</style>\n",
       "<table border=\"1\" class=\"dataframe\">\n",
       "  <thead>\n",
       "    <tr style=\"text-align: right;\">\n",
       "      <th></th>\n",
       "      <th>Unnamed: 0</th>\n",
       "      <th>Country code</th>\n",
       "      <th>Date</th>\n",
       "      <th>Holiday</th>\n",
       "      <th>English short name lower case</th>\n",
       "      <th>Alpha-2 code</th>\n",
       "      <th>Alpha-3 code</th>\n",
       "      <th>Numeric code</th>\n",
       "      <th>ISO 3166-2</th>\n",
       "    </tr>\n",
       "  </thead>\n",
       "  <tbody>\n",
       "    <tr>\n",
       "      <th>0</th>\n",
       "      <td>0</td>\n",
       "      <td>ABW</td>\n",
       "      <td>2016-01-01</td>\n",
       "      <td>Aña Nobo [New Year's Day]</td>\n",
       "      <td>Aruba</td>\n",
       "      <td>AW</td>\n",
       "      <td>ABW</td>\n",
       "      <td>533</td>\n",
       "      <td>ISO 3166-2:AW</td>\n",
       "    </tr>\n",
       "    <tr>\n",
       "      <th>1</th>\n",
       "      <td>1</td>\n",
       "      <td>ABW</td>\n",
       "      <td>2016-01-25</td>\n",
       "      <td>Dia Di Betico [Betico Day]</td>\n",
       "      <td>Aruba</td>\n",
       "      <td>AW</td>\n",
       "      <td>ABW</td>\n",
       "      <td>533</td>\n",
       "      <td>ISO 3166-2:AW</td>\n",
       "    </tr>\n",
       "    <tr>\n",
       "      <th>2</th>\n",
       "      <td>2</td>\n",
       "      <td>ABW</td>\n",
       "      <td>2016-02-08</td>\n",
       "      <td>Dialuna di Carnaval             [Carnaval Monday]</td>\n",
       "      <td>Aruba</td>\n",
       "      <td>AW</td>\n",
       "      <td>ABW</td>\n",
       "      <td>533</td>\n",
       "      <td>ISO 3166-2:AW</td>\n",
       "    </tr>\n",
       "    <tr>\n",
       "      <th>3</th>\n",
       "      <td>3</td>\n",
       "      <td>ABW</td>\n",
       "      <td>2016-03-18</td>\n",
       "      <td>Dia di Himno y Bandera             [National A...</td>\n",
       "      <td>Aruba</td>\n",
       "      <td>AW</td>\n",
       "      <td>ABW</td>\n",
       "      <td>533</td>\n",
       "      <td>ISO 3166-2:AW</td>\n",
       "    </tr>\n",
       "    <tr>\n",
       "      <th>4</th>\n",
       "      <td>4</td>\n",
       "      <td>ABW</td>\n",
       "      <td>2016-03-25</td>\n",
       "      <td>Bierna Santo [Good Friday]</td>\n",
       "      <td>Aruba</td>\n",
       "      <td>AW</td>\n",
       "      <td>ABW</td>\n",
       "      <td>533</td>\n",
       "      <td>ISO 3166-2:AW</td>\n",
       "    </tr>\n",
       "  </tbody>\n",
       "</table>\n",
       "</div>"
      ],
      "text/plain": [
       "   Unnamed: 0 Country code        Date  \\\n",
       "0           0          ABW  2016-01-01   \n",
       "1           1          ABW  2016-01-25   \n",
       "2           2          ABW  2016-02-08   \n",
       "3           3          ABW  2016-03-18   \n",
       "4           4          ABW  2016-03-25   \n",
       "\n",
       "                                             Holiday  \\\n",
       "0                          Aña Nobo [New Year's Day]   \n",
       "1                         Dia Di Betico [Betico Day]   \n",
       "2  Dialuna di Carnaval             [Carnaval Monday]   \n",
       "3  Dia di Himno y Bandera             [National A...   \n",
       "4                         Bierna Santo [Good Friday]   \n",
       "\n",
       "  English short name lower case Alpha-2 code Alpha-3 code  Numeric code  \\\n",
       "0                         Aruba           AW          ABW           533   \n",
       "1                         Aruba           AW          ABW           533   \n",
       "2                         Aruba           AW          ABW           533   \n",
       "3                         Aruba           AW          ABW           533   \n",
       "4                         Aruba           AW          ABW           533   \n",
       "\n",
       "      ISO 3166-2  \n",
       "0  ISO 3166-2:AW  \n",
       "1  ISO 3166-2:AW  \n",
       "2  ISO 3166-2:AW  \n",
       "3  ISO 3166-2:AW  \n",
       "4  ISO 3166-2:AW  "
      ]
     },
     "execution_count": 3,
     "metadata": {},
     "output_type": "execute_result"
    }
   ],
   "source": [
    "output_df.head()"
   ]
  },
  {
   "cell_type": "markdown",
   "id": "60211d27-a0fd-4ed0-86f2-d0f1eaffa7b9",
   "metadata": {},
   "source": [
    "No we got 2 redundat columns; Unnamed:0 and couuntry code, so let's drop them"
   ]
  },
  {
   "cell_type": "code",
   "execution_count": 4,
   "id": "2655be84-a017-4e14-96ba-bfaf60a96a98",
   "metadata": {},
   "outputs": [],
   "source": [
    "output_df = output_df.drop(columns = ['Unnamed: 0', 'Country code'], axis=1)"
   ]
  },
  {
   "cell_type": "markdown",
   "id": "20ea96ab-20d2-494e-a18e-a07f0e81a714",
   "metadata": {},
   "source": [
    "While we're at it, let's rename the \"English short name lower case\" column to something shorter like \"Country\"."
   ]
  },
  {
   "cell_type": "code",
   "execution_count": 5,
   "id": "5a5a3283-2dbc-4212-a5c2-805eba06c4ad",
   "metadata": {},
   "outputs": [],
   "source": [
    "output_df.rename({'English short name lower case': 'Country'}, axis=1,\n",
    "                 inplace=True)"
   ]
  },
  {
   "cell_type": "markdown",
   "id": "3955a63d-cc69-4a36-b520-811e88280818",
   "metadata": {},
   "source": [
    "......and make it lowercase to remove uper-lowercase mix"
   ]
  },
  {
   "cell_type": "code",
   "execution_count": 6,
   "id": "2bff14da-5868-4160-8eda-84390d3741be",
   "metadata": {},
   "outputs": [],
   "source": [
    "output_df['Country'] = output_df['Country'].map(lambda name: name.lower())"
   ]
  },
  {
   "cell_type": "markdown",
   "id": "ba753edb-2e5f-45af-84a3-db0477d8c8df",
   "metadata": {},
   "source": [
    "Hmmm, the date is stored in Python's dateTime format. But we only need the year, so let's create the year column."
   ]
  },
  {
   "cell_type": "code",
   "execution_count": 7,
   "id": "181d7b74-ecc4-46aa-b6a1-308a03d4bfd9",
   "metadata": {},
   "outputs": [],
   "source": [
    "output_df['Year'] = pd.DatetimeIndex(output_df['Date']).year"
   ]
  },
  {
   "cell_type": "markdown",
   "id": "3a805228-0e24-4ea9-94f2-fd8f98def0d1",
   "metadata": {},
   "source": [
    "Much better"
   ]
  },
  {
   "cell_type": "code",
   "execution_count": 8,
   "id": "4e5e5566-4b11-45ec-b8e8-ffa4c429646a",
   "metadata": {},
   "outputs": [
    {
     "data": {
      "text/html": [
       "<div>\n",
       "<style scoped>\n",
       "    .dataframe tbody tr th:only-of-type {\n",
       "        vertical-align: middle;\n",
       "    }\n",
       "\n",
       "    .dataframe tbody tr th {\n",
       "        vertical-align: top;\n",
       "    }\n",
       "\n",
       "    .dataframe thead th {\n",
       "        text-align: right;\n",
       "    }\n",
       "</style>\n",
       "<table border=\"1\" class=\"dataframe\">\n",
       "  <thead>\n",
       "    <tr style=\"text-align: right;\">\n",
       "      <th></th>\n",
       "      <th>Date</th>\n",
       "      <th>Holiday</th>\n",
       "      <th>Country</th>\n",
       "      <th>Alpha-2 code</th>\n",
       "      <th>Alpha-3 code</th>\n",
       "      <th>Numeric code</th>\n",
       "      <th>ISO 3166-2</th>\n",
       "      <th>Year</th>\n",
       "    </tr>\n",
       "  </thead>\n",
       "  <tbody>\n",
       "    <tr>\n",
       "      <th>0</th>\n",
       "      <td>2016-01-01</td>\n",
       "      <td>Aña Nobo [New Year's Day]</td>\n",
       "      <td>aruba</td>\n",
       "      <td>AW</td>\n",
       "      <td>ABW</td>\n",
       "      <td>533</td>\n",
       "      <td>ISO 3166-2:AW</td>\n",
       "      <td>2016</td>\n",
       "    </tr>\n",
       "    <tr>\n",
       "      <th>1</th>\n",
       "      <td>2016-01-25</td>\n",
       "      <td>Dia Di Betico [Betico Day]</td>\n",
       "      <td>aruba</td>\n",
       "      <td>AW</td>\n",
       "      <td>ABW</td>\n",
       "      <td>533</td>\n",
       "      <td>ISO 3166-2:AW</td>\n",
       "      <td>2016</td>\n",
       "    </tr>\n",
       "    <tr>\n",
       "      <th>2</th>\n",
       "      <td>2016-02-08</td>\n",
       "      <td>Dialuna di Carnaval             [Carnaval Monday]</td>\n",
       "      <td>aruba</td>\n",
       "      <td>AW</td>\n",
       "      <td>ABW</td>\n",
       "      <td>533</td>\n",
       "      <td>ISO 3166-2:AW</td>\n",
       "      <td>2016</td>\n",
       "    </tr>\n",
       "    <tr>\n",
       "      <th>3</th>\n",
       "      <td>2016-03-18</td>\n",
       "      <td>Dia di Himno y Bandera             [National A...</td>\n",
       "      <td>aruba</td>\n",
       "      <td>AW</td>\n",
       "      <td>ABW</td>\n",
       "      <td>533</td>\n",
       "      <td>ISO 3166-2:AW</td>\n",
       "      <td>2016</td>\n",
       "    </tr>\n",
       "    <tr>\n",
       "      <th>4</th>\n",
       "      <td>2016-03-25</td>\n",
       "      <td>Bierna Santo [Good Friday]</td>\n",
       "      <td>aruba</td>\n",
       "      <td>AW</td>\n",
       "      <td>ABW</td>\n",
       "      <td>533</td>\n",
       "      <td>ISO 3166-2:AW</td>\n",
       "      <td>2016</td>\n",
       "    </tr>\n",
       "  </tbody>\n",
       "</table>\n",
       "</div>"
      ],
      "text/plain": [
       "         Date                                            Holiday Country  \\\n",
       "0  2016-01-01                          Aña Nobo [New Year's Day]   aruba   \n",
       "1  2016-01-25                         Dia Di Betico [Betico Day]   aruba   \n",
       "2  2016-02-08  Dialuna di Carnaval             [Carnaval Monday]   aruba   \n",
       "3  2016-03-18  Dia di Himno y Bandera             [National A...   aruba   \n",
       "4  2016-03-25                         Bierna Santo [Good Friday]   aruba   \n",
       "\n",
       "  Alpha-2 code Alpha-3 code  Numeric code     ISO 3166-2  Year  \n",
       "0           AW          ABW           533  ISO 3166-2:AW  2016  \n",
       "1           AW          ABW           533  ISO 3166-2:AW  2016  \n",
       "2           AW          ABW           533  ISO 3166-2:AW  2016  \n",
       "3           AW          ABW           533  ISO 3166-2:AW  2016  \n",
       "4           AW          ABW           533  ISO 3166-2:AW  2016  "
      ]
     },
     "execution_count": 8,
     "metadata": {},
     "output_type": "execute_result"
    }
   ],
   "source": [
    "output_df.head()"
   ]
  },
  {
   "cell_type": "markdown",
   "id": "94635684-64da-4fcd-ae1b-6664b3ddc213",
   "metadata": {},
   "source": [
    "## Are we done?\n",
    "No! We need to make sure that the dataset is \"clean\""
   ]
  },
  {
   "cell_type": "markdown",
   "id": "c470ca55-4659-4742-ba1f-7a5733d709ed",
   "metadata": {},
   "source": [
    "I can see that Söndag and Søndag is a holliday, I know it's not; so let's drop those entries"
   ]
  },
  {
   "cell_type": "code",
   "execution_count": 9,
   "id": "6b2d1733-cd7b-45e2-82f7-9a4f40005475",
   "metadata": {},
   "outputs": [],
   "source": [
    "output_df = output_df[~output_df['Holiday'].isin(['Söndag', 'Søndag'])]"
   ]
  },
  {
   "cell_type": "markdown",
   "id": "b5036ff4-7b90-44e7-8dd1-c2950389393d",
   "metadata": {},
   "source": [
    "Hmmm, Isreal seem to have lots of holidays which are entried as unique while they shouldn't. Let's just drop all entries for Isreal."
   ]
  },
  {
   "cell_type": "code",
   "execution_count": 10,
   "id": "dc788a43-133e-468d-864c-aeab6ad8a1b5",
   "metadata": {},
   "outputs": [],
   "source": [
    "output_df = output_df[output_df['Alpha-3 code'] != 'ISR']"
   ]
  },
  {
   "cell_type": "markdown",
   "id": "01705b38-68c7-4ae2-bcd7-2df0cb839811",
   "metadata": {},
   "source": [
    "# Let's be done now\n",
    "and save our dataframe as \"CleanHolidayData2016-2022\" in .csv format. "
   ]
  },
  {
   "cell_type": "code",
   "execution_count": 11,
   "id": "c7d48598-77fa-466b-ba46-c5e430bd935f",
   "metadata": {},
   "outputs": [],
   "source": [
    "save_name = 'CleanHolidayData2016-2022'\n",
    "output_path = os.path.join(os.getcwd(),\n",
    "                            f'Data/CleanedData/{save_name}.csv')\n",
    "output_df.to_csv(output_path)"
   ]
  },
  {
   "cell_type": "code",
   "execution_count": null,
   "id": "390ab7c8-b3b8-4dca-a10e-842cd22cab37",
   "metadata": {},
   "outputs": [],
   "source": []
  }
 ],
 "metadata": {
  "kernelspec": {
   "display_name": "Python 3",
   "language": "python",
   "name": "python3"
  },
  "language_info": {
   "codemirror_mode": {
    "name": "ipython",
    "version": 3
   },
   "file_extension": ".py",
   "mimetype": "text/x-python",
   "name": "python",
   "nbconvert_exporter": "python",
   "pygments_lexer": "ipython3",
   "version": "3.9.5"
  }
 },
 "nbformat": 4,
 "nbformat_minor": 5
}
